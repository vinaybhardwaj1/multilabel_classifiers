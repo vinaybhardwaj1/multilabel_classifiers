{
  "nbformat": 4,
  "nbformat_minor": 0,
  "metadata": {
    "kernelspec": {
      "display_name": "Python 3",
      "language": "python",
      "name": "python3"
    },
    "language_info": {
      "codemirror_mode": {
        "name": "ipython",
        "version": 3
      },
      "file_extension": ".py",
      "mimetype": "text/x-python",
      "name": "python",
      "nbconvert_exporter": "python",
      "pygments_lexer": "ipython3",
      "version": "3.7.3"
    },
    "colab": {
      "name": "Assignment 1.ipynb",
      "provenance": [],
      "collapsed_sections": [],
      "include_colab_link": true
    }
  },
  "cells": [
    {
      "cell_type": "markdown",
      "metadata": {
        "id": "view-in-github",
        "colab_type": "text"
      },
      "source": [
        "<a href=\"https://colab.research.google.com/github/vinaybhardwaj1/multilabel_classifiers/blob/master/Multi_labelClassifiers.ipynb\" target=\"_parent\"><img src=\"https://colab.research.google.com/assets/colab-badge.svg\" alt=\"Open In Colab\"/></a>"
      ]
    },
    {
      "cell_type": "markdown",
      "metadata": {
        "id": "0BjnPmEufGp0",
        "colab_type": "text"
      },
      "source": [
        "# Advance Machine Learning - Assignment 1 <br>\n",
        "By - Vinay Bhardwaj(19200487)\n",
        "\n",
        "Contents :\n",
        "1. BinaryRelevanceClassifier - Implementation of multi-label classifier using binary relevance technique. This classifier takes 2 parameters, a base classifier of Classifier type and a boolean flag to specify the use of undersampling on imbalanced classes.\n",
        "\n",
        "2. ChaningClassifier - Implementation of multi-label classifier using classifier chaining technique. This classifier takes one parameter, a base classifier of Classifier type.\n",
        "\n",
        "3. Metric Definition - Evaluation metric for created multi-label classifiers.\n",
        "\n",
        "4. Testing and Predictions - Use of yeast dataset to evaluate performances of our created classifiers using different base classifiers.\n",
        "\n",
        "5. Conclusion - Final results of tests and inferences from the results."
      ]
    },
    {
      "cell_type": "code",
      "metadata": {
        "id": "Bs8RkX0itSr1",
        "colab_type": "code",
        "colab": {}
      },
      "source": [
        "import pandas as pd\n",
        "import numpy as np\n",
        "import matplotlib.pyplot as plt\n",
        "from matplotlib import pyplot\n",
        "import random\n",
        "from joblib import Parallel, delayed\n",
        "from sklearn.base import clone\n",
        "from sklearn.datasets import fetch_openml\n",
        "\n",
        "from sklearn.model_selection import GridSearchCV\n",
        "from sklearn.model_selection import cross_val_score\n",
        "from sklearn.model_selection import train_test_split\n",
        "from sklearn.base import BaseEstimator, ClassifierMixin\n",
        "from sklearn.utils.validation import check_X_y, check_array, check_is_fitted\n",
        "from sklearn.utils.multiclass import unique_labels\n",
        "from sklearn import metrics\n",
        "from sklearn.tree import DecisionTreeClassifier\n",
        "from sklearn.naive_bayes import GaussianNB\n",
        "from sklearn.neighbors import KNeighborsClassifier\n",
        "\n",
        "import time\n",
        "\n",
        "\n",
        "%matplotlib inline\n",
        "#%qtconsole"
      ],
      "execution_count": 0,
      "outputs": []
    },
    {
      "cell_type": "markdown",
      "metadata": {
        "id": "vZ4qW283e8fE",
        "colab_type": "text"
      },
      "source": [
        "## BinaryRelevanceClassifier"
      ]
    },
    {
      "cell_type": "code",
      "metadata": {
        "id": "SIR4LxTJtSr-",
        "colab_type": "code",
        "colab": {}
      },
      "source": [
        "from sklearn.utils import resample\n",
        "\n",
        "# Create a new classifier which is based on the sckit-learn BaseEstimator and ClassifierMixin classes\n",
        "class BinaryRelevanceMLClassifier(BaseEstimator, ClassifierMixin):\n",
        "  \"\"\"The\tbinary relevance classifier is a\tmulti-label\tclassification algorithm in\twhich\tindividual\tbinary\tbase classifiers\tare\t\n",
        "      implemented for\teach\tlabel.\tThis\tuses\ta\tone-vs-all\tapproach\tto\tgenerate the\ttraining\tsets for\teach\tbase classifier.\n",
        "\n",
        "    Parameters\n",
        "    ----------\n",
        "    classifier, required (default = None)\n",
        "      The base classifier to be used on multi-label data \n",
        "    use_under_sampling bool, optional (default = False)\n",
        "      Flag to specify the use of undersampling on each label.\n",
        "\n",
        "    Attributes\n",
        "    ----------\n",
        "    classes_ : dict \n",
        "        A dictionary of classes for each label.\n",
        "    classifiers_ : dict\n",
        "        A dictionary of the classifier for each label.\n",
        "    num_labels_ : int\n",
        "        Number of labels.\n",
        "        \n",
        "    Notes\n",
        "    -----\n",
        "    \n",
        "\n",
        "    See also\n",
        "    --------\n",
        "    \n",
        "    ----------\n",
        "\n",
        "    \"\"\"\n",
        "\n",
        "    # Constructor for the classifier object\n",
        "    def __init__(self,classifier = None,use_under_sampling = False):\n",
        "        self.classifier = classifier # delfault distance function = euclidean\n",
        "        self.use_under_sampling = use_under_sampling \n",
        "\n",
        "    # The fit function to train a classifier\n",
        "    def fit(self, X, y):\n",
        "        if self.classifier == None:\n",
        "          return \"No classifier specified\"\n",
        "        \n",
        "        # Check that X and y have correct shape\n",
        "        yn = {}\n",
        "        uniques = {}\n",
        "        counts = {}\n",
        "        classifiers = {}\n",
        "        Xn = {}\n",
        "        for i in range(y.shape[1]):\n",
        "          # Check shape of X and y\n",
        "          Xn[\"X{}\".format(i)], yn[\"y{}\".format(i)] = check_X_y(X, y[:,i])\n",
        "          # Count the number of occurrences of each class in the target vector (uses mupy unique function that returns a list of unique values and their counts)\n",
        "          uniques[\"unique{}\".format(i)], counts[\"count{}\".format(i)] = np.unique(y[:,i], return_counts=True)\n",
        "          \n",
        "\n",
        "          # Use of under sampling\n",
        "          if(self.use_under_sampling == True) :\n",
        "            min_samples = min(counts[\"count{}\".format(i)])\n",
        "\n",
        "            # Undersampling imbalanced labels - uses sklearn.resample method to reduce samples\n",
        "            for u,c in zip(uniques[\"unique{}\".format(i)], counts[\"count{}\".format(i)]):\n",
        "              if c != min_samples:\n",
        "                tempX = np.delete(Xn[\"X{}\".format(i)],np.where(yn[\"y{}\".format(i)] == u)[0],0 )\n",
        "                tempX_new = resample(Xn[\"X{}\".format(i)][yn[\"y{}\".format(i)] == u],replace=True,n_samples=min_samples) # resampling to minimum samples for descriptive features\n",
        "                Xn[\"X{}\".format(i)] = np.append(tempX,tempX_new,axis=0)\n",
        "\n",
        "                tempy = np.delete(yn[\"y{}\".format(i)],np.where(yn[\"y{}\".format(i)] == u)[0],0 )\n",
        "                tempy_new = resample(yn[\"y{}\".format(i)][yn[\"y{}\".format(i)] == u],replace=True,n_samples=min_samples) # for labels\n",
        "                yn[\"y{}\".format(i)] = np.append(tempy,tempy_new,axis=0)\n",
        "          \n",
        "          # Create new classifier for each label\n",
        "          classifiers[\"classifier{}\".format(i)] = clone(self.classifier).fit(Xn[\"X{}\".format(i)],yn[\"y{}\".format(i)])# fitting classifiers\n",
        "        \n",
        "        # Store the classes seen during fit\n",
        "        self.classes_ = uniques\n",
        "        \n",
        "        # Store the number of labels\n",
        "        self.num_labels_ = y.shape[1]\n",
        "\n",
        "        # Store the all the classifiers\n",
        "        self.classifiers_ = classifiers\n",
        "        \n",
        "        # Return the classifier\n",
        "        return self\n",
        "\n",
        "    # The predict function to make a set of predictions for a set of query instances\n",
        "    def predict(self, X):\n",
        "\n",
        "        # Check is fit had been called by confirming that the distributions_ dictionary has been set up\n",
        "        check_is_fitted(self, ['classifiers_'])\n",
        "\n",
        "        # Check that the input features match the type and shape of the training features\n",
        "        X = check_array(X)\n",
        "\n",
        "        predictions = []\n",
        "        for i in range(self.num_labels_):\n",
        "          predictions.append([])\n",
        "          predictions[i] = self.classifiers_[\"classifier{}\".format(i)].predict(X)\n",
        "\n",
        "        predictions = np.transpose(predictions)\n",
        "            \n",
        "        return np.array(predictions)\n",
        "    \n",
        "    \n",
        "    # The predict function to make a set of predictions for a set of query instances\n",
        "    def predict_proba(self, X):\n",
        "\n",
        "        # Check is fit had been called by confirming that the distributions_ dictionary has been set up\n",
        "        check_is_fitted(self, ['classifiers_'])\n",
        "\n",
        "        # Check that the input features match the type and shape of the training features\n",
        "        X = check_array(X)\n",
        "        \n",
        "        predic_proba = []\n",
        "        for i in range(self.num_labels_):\n",
        "          predic_proba.append([])\n",
        "          predic_proba[i] = self.classifiers_[\"classifier{}\".format(i)].predict_proba(X)\n",
        "\n",
        "        predic_proba = np.transpose(predic_proba)\n",
        "            \n",
        "        return predic_proba"
      ],
      "execution_count": 0,
      "outputs": []
    },
    {
      "cell_type": "markdown",
      "metadata": {
        "id": "9KqjTiXAfP89",
        "colab_type": "text"
      },
      "source": [
        "## ChaningClassifier"
      ]
    },
    {
      "cell_type": "code",
      "metadata": {
        "id": "ZgGRvitmYDpM",
        "colab_type": "code",
        "colab": {}
      },
      "source": [
        "# Create a new classifier which is based on the sckit-learn BaseEstimator and ClassifierMixin classes\n",
        "class ChaningClassifier(BaseEstimator, ClassifierMixin):\n",
        "    \"\"\"The classifier\tchains algorithm\tis an\teffective\tmulti-label\tclassification\talgorithm\tthat\ttakes\tadvantage\tof\t\n",
        "    label\tassociations.\tA\tclassifier\tchain\tmodel generates\ta\tchain\tof\tbinary\t\n",
        "    classifiers each\tof\tpredicts\tthe\tpresence\tor\tabsence of\ta\tspecific\tlabel.\tThe\t\n",
        "    in\tinput\tto\teach\tclassifier\tin\tthe\tchain,\thowever,\tincludes\tthe\toriginal\t\n",
        "    descriptive\tfeatures\tplus\tthe\toutputs\tof\tthe\tclassifiers so\tfar\tin\tthe\tchain.\t\n",
        "    This\tallows\tlabel\tassociations to\tbe\ttaken\tinto\taccount. Implement\tthe\tclassifier\tchains\talgorithm.\n",
        "\n",
        "    Parameters\n",
        "    ----------\n",
        "    classifier, required (default = None)\n",
        "      The base classifier to be used on multi-label data \n",
        "\n",
        "    Attributes\n",
        "    ----------\n",
        "    classes_ : dict \n",
        "        A dictionary of classes for each label.\n",
        "    classifiers_ : dict\n",
        "        A dictionary of the classifier for each label.\n",
        "    num_labels_ : int\n",
        "        Number of labels.\n",
        "        \n",
        "    Notes\n",
        "    -----\n",
        "    \n",
        "\n",
        "    See also\n",
        "    --------\n",
        "    \n",
        "    ----------\n",
        "\n",
        "    \"\"\"\n",
        "\n",
        "    # Constructor for the classifier object\n",
        "    def __init__(self,classifier = None):\n",
        "        self.classifier = classifier # delfault classifier = None \n",
        "\n",
        "    # The fit function to train a classifier\n",
        "    def fit(self, X, y):\n",
        "        if self.classifier == None:\n",
        "          return \"No classifier specified\"\n",
        "        \n",
        "        # Check that X and y have correct shape\n",
        "        yn = {}\n",
        "        uniques = {}\n",
        "        counts = {}\n",
        "        classifiers = {}\n",
        "        Xn = {}\n",
        "        for i in range(y.shape[1]):\n",
        "          # Check shape of X and y\n",
        "          Xn[\"X{}\".format(i)], yn[\"y{}\".format(i)] = check_X_y(X, y[:,i])\n",
        "          \n",
        "          # Count the number of occurrences of each class in the target vector \n",
        "          #(uses numpy unique function that returns a list of unique values and their counts)\n",
        "          uniques[\"unique{}\".format(i)], counts[\"count{}\".format(i)] = np.unique(y[:,i], return_counts=True)\n",
        "          \n",
        "          # Re-defining X by appending new column of y\n",
        "          if (i == 0):\n",
        "            Xn_ = Xn[\"X{}\".format(i)]\n",
        "          else:\n",
        "            Xn_ = np.hstack((Xn_, np.atleast_2d(y[:,i-1]).T))\n",
        "          \n",
        "          # Create new classifier for each label\n",
        "          classifiers[\"classifier{}\".format(i)] = clone(self.classifier).fit(Xn_,yn[\"y{}\".format(i)]) # fitting classifiers\n",
        "        \n",
        "        # Store the classes seen during fit\n",
        "        self.classes_ = uniques\n",
        "        \n",
        "        # Store the number of labels\n",
        "        self.num_labels_ = y.shape[1]\n",
        "\n",
        "        # Store the all the classifiers\n",
        "        self.classifiers_ = classifiers\n",
        "        \n",
        "        # Return the classifier\n",
        "        return self\n",
        "\n",
        "    # The predict function to make a set of predictions for a set of query instances\n",
        "    def predict(self, X):\n",
        "\n",
        "        # Check is fit had been called by confirming that the distributions_ dictionary has been set up\n",
        "        check_is_fitted(self, ['classifiers_'])\n",
        "\n",
        "        # Check that the input features match the type and shape of the training features\n",
        "        X = check_array(X)\n",
        "\n",
        "        predictions = []\n",
        "        for i in range(self.num_labels_):\n",
        "\n",
        "          # Appending predictions to X for next prediction\n",
        "          if (i == 0):\n",
        "            Xn_ = X\n",
        "          else:\n",
        "            Xn_ = np.hstack((Xn_, np.atleast_2d(predictions[i-1]).T))\n",
        "\n",
        "          predictions.append([])\n",
        "          predictions[i] = self.classifiers_[\"classifier{}\".format(i)].predict(Xn_)\n",
        "\n",
        "        predictions = np.transpose(predictions)\n",
        "            \n",
        "        return np.array(predictions)\n",
        "    \n",
        "    \n",
        "    # The predict function to make a set of predictions for a set of query instances\n",
        "    def predict_proba(self, X):\n",
        "\n",
        "        # Check is fit had been called by confirming that the distributions_ dictionary has been set up\n",
        "        check_is_fitted(self, ['classifiers_'])\n",
        "\n",
        "        # Check that the input features match the type and shape of the training features\n",
        "        X = check_array(X)\n",
        "        \n",
        "        predic_proba = []\n",
        "        for i in range(self.num_labels_):\n",
        "\n",
        "          # Appending predictions to X for next prediction\n",
        "          if (i == 0):\n",
        "            Xn_ = X\n",
        "          else:\n",
        "            Xn_ = np.hstack((Xn_, np.atleast_2d(predictions[i-1]).T))\n",
        "\n",
        "          predic_proba.append([])\n",
        "          predic_proba[i] = self.classifiers_[\"classifier{}\".format(i)].predict_proba(X)\n",
        "\n",
        "        predic_proba = np.transpose(predic_proba)\n",
        "            \n",
        "        return predic_proba"
      ],
      "execution_count": 0,
      "outputs": []
    },
    {
      "cell_type": "markdown",
      "metadata": {
        "id": "ZHbky_1etaag",
        "colab_type": "text"
      },
      "source": [
        "## Evaluation Metrics <br>\n",
        "We will use standard evaluation metrics - accuracy and f1-score and modify to create functions which can be used on multi-label data. Approach taken is individually calculating the metric for each label and then returning the mean measure of all the labels."
      ]
    },
    {
      "cell_type": "code",
      "metadata": {
        "id": "VvhkWqxqtgiQ",
        "colab_type": "code",
        "colab": {}
      },
      "source": [
        "def multilabel_mean_accuracy(y_actual,y_predicted):\n",
        "  accuracy = []\n",
        "  for i in range(y_actual.shape[1]):\n",
        "    accuracy.append(metrics.accuracy_score(y_actual[:,i], y_predicted[:,i]))\n",
        "  return np.mean(accuracy)\n",
        "\n",
        "def multilabel_mean_f1score(y_actual,y_predicted):\n",
        "  f1_score = []\n",
        "  for i in range(y_actual.shape[1]):\n",
        "    f1_score.append(metrics.f1_score(y_actual[:,i], y_predicted[:,i]))\n",
        "  return np.mean(f1_score)"
      ],
      "execution_count": 0,
      "outputs": []
    },
    {
      "cell_type": "markdown",
      "metadata": {
        "id": "DlKvz7gBfb6s",
        "colab_type": "text"
      },
      "source": [
        "## Testing and predictions"
      ]
    },
    {
      "cell_type": "markdown",
      "metadata": {
        "id": "WWQi8BncpLrm",
        "colab_type": "text"
      },
      "source": [
        "Now that we have created out classifiers we will import 'yeast' dataset and test our classifiers on this dataset.Test metrics use will be multilabel_mean_accuracy and multilabel_mean_f1score defined earlier."
      ]
    },
    {
      "cell_type": "code",
      "metadata": {
        "id": "pLLeC7ezf-w0",
        "colab_type": "code",
        "colab": {}
      },
      "source": [
        "X, Y = fetch_openml('yeast', version=4, return_X_y=True)\n",
        "Y = Y == 'TRUE'\n",
        "X_train, X_test, Y_train, Y_test = train_test_split(X, Y, test_size=.2,random_state=0)"
      ],
      "execution_count": 0,
      "outputs": []
    },
    {
      "cell_type": "code",
      "metadata": {
        "id": "aPKZucKYwbs9",
        "colab_type": "code",
        "outputId": "557292c1-9342-4851-a8ba-d1535399ce3a",
        "colab": {
          "base_uri": "https://localhost:8080/",
          "height": 238
        }
      },
      "source": [
        "X"
      ],
      "execution_count": 0,
      "outputs": [
        {
          "output_type": "execute_result",
          "data": {
            "text/plain": [
              "array([[ 0.004168, -0.170975, -0.156748, ..., -0.018312,  0.030126,\n",
              "         0.124722],\n",
              "       [-0.103956,  0.011879, -0.098986, ..., -0.041471, -0.079758,\n",
              "         0.017161],\n",
              "       [ 0.509949,  0.401709,  0.293799, ...,  0.02671 , -0.066565,\n",
              "        -0.122352],\n",
              "       ...,\n",
              "       [ 0.082526, -0.095571, -0.022019, ..., -0.066957,  0.260121,\n",
              "        -0.125303],\n",
              "       [-0.13083 ,  0.008868, -0.009457, ..., -0.122332, -0.022453,\n",
              "         0.001953],\n",
              "       [-0.171578, -0.066536,  0.168206, ..., -0.083342, -0.063135,\n",
              "         0.01881 ]])"
            ]
          },
          "metadata": {
            "tags": []
          },
          "execution_count": 39
        }
      ]
    },
    {
      "cell_type": "code",
      "metadata": {
        "id": "SdMivlLgnTqy",
        "colab_type": "code",
        "outputId": "71dc913b-5630-41d9-9d5e-a1cffe23fe71",
        "colab": {
          "base_uri": "https://localhost:8080/",
          "height": 136
        }
      },
      "source": [
        "Y_train"
      ],
      "execution_count": 0,
      "outputs": [
        {
          "output_type": "execute_result",
          "data": {
            "text/plain": [
              "array([[ True,  True, False, ...,  True,  True, False],\n",
              "       [False,  True,  True, ..., False, False, False],\n",
              "       [False, False, False, ..., False, False, False],\n",
              "       ...,\n",
              "       [ True,  True,  True, ...,  True,  True, False],\n",
              "       [False, False,  True, ...,  True,  True, False],\n",
              "       [ True,  True,  True, ..., False, False, False]])"
            ]
          },
          "metadata": {
            "tags": []
          },
          "execution_count": 40
        }
      ]
    },
    {
      "cell_type": "markdown",
      "metadata": {
        "id": "Vjauy940vBIs",
        "colab_type": "text"
      },
      "source": [
        "(A)Trying BinaryRelevanceMLClassifier with 1) DTrees, 2) GaussianNB and 3) KNN (Keeping under_sampling as False)"
      ]
    },
    {
      "cell_type": "code",
      "metadata": {
        "id": "BdOhbaSY4JMo",
        "colab_type": "code",
        "colab": {}
      },
      "source": [
        "result_df1 = pd.DataFrame(columns=['Base Classifier', 'Accuracy', 'F1-Score'])"
      ],
      "execution_count": 0,
      "outputs": []
    },
    {
      "cell_type": "code",
      "metadata": {
        "id": "eLO6WC6zCLF7",
        "colab_type": "code",
        "outputId": "0a5c779c-700e-4243-93ab-330f8136a7f6",
        "colab": {
          "base_uri": "https://localhost:8080/",
          "height": 272
        }
      },
      "source": [
        "br = BinaryRelevanceMLClassifier(classifier=DecisionTreeClassifier())\n",
        "br.fit(X_train,Y_train)"
      ],
      "execution_count": 105,
      "outputs": [
        {
          "output_type": "execute_result",
          "data": {
            "text/plain": [
              "BinaryRelevanceMLClassifier(classifier=DecisionTreeClassifier(ccp_alpha=0.0,\n",
              "                                                              class_weight=None,\n",
              "                                                              criterion='gini',\n",
              "                                                              max_depth=None,\n",
              "                                                              max_features=None,\n",
              "                                                              max_leaf_nodes=None,\n",
              "                                                              min_impurity_decrease=0.0,\n",
              "                                                              min_impurity_split=None,\n",
              "                                                              min_samples_leaf=1,\n",
              "                                                              min_samples_split=2,\n",
              "                                                              min_weight_fraction_leaf=0.0,\n",
              "                                                              presort='deprecated',\n",
              "                                                              random_state=None,\n",
              "                                                              splitter='best'),\n",
              "                            use_under_sampling=False)"
            ]
          },
          "metadata": {
            "tags": []
          },
          "execution_count": 105
        }
      ]
    },
    {
      "cell_type": "code",
      "metadata": {
        "id": "vqtpVJRmHKCc",
        "colab_type": "code",
        "outputId": "80ad6c03-de9c-470d-abf0-64083623ac90",
        "colab": {
          "base_uri": "https://localhost:8080/",
          "height": 479
        }
      },
      "source": [
        "y_pred = br.predict(X_test)\n",
        "result_df1.loc[0] = ['DTree',multilabel_mean_accuracy(Y_test,y_pred),multilabel_mean_f1score(Y_test,y_pred)]\n",
        "print('Accuracy : {0:.2f} F1 Score : {1:.2f}'.format(result_df1['Accuracy'][0],result_df1['F1-Score'][0]))\n",
        "print('Classification Report \\n',metrics.classification_report(Y_test,y_pred))"
      ],
      "execution_count": 0,
      "outputs": [
        {
          "output_type": "stream",
          "text": [
            "Accuracy : 0.73 F1 Score : 0.38\n",
            "Classification Report \n",
            "               precision    recall  f1-score   support\n",
            "\n",
            "           0       0.51      0.50      0.50       163\n",
            "           1       0.56      0.50      0.53       222\n",
            "           2       0.53      0.51      0.52       183\n",
            "           3       0.48      0.50      0.49       153\n",
            "           4       0.57      0.48      0.52       155\n",
            "           5       0.40      0.36      0.38       128\n",
            "           6       0.27      0.29      0.28        83\n",
            "           7       0.26      0.24      0.25        97\n",
            "           8       0.00      0.00      0.00        39\n",
            "           9       0.13      0.12      0.12        50\n",
            "          10       0.16      0.16      0.16        50\n",
            "          11       0.75      0.76      0.76       353\n",
            "          12       0.75      0.79      0.77       350\n",
            "          13       0.00      0.00      0.00         7\n",
            "\n",
            "   micro avg       0.55      0.54      0.54      2033\n",
            "   macro avg       0.38      0.37      0.38      2033\n",
            "weighted avg       0.54      0.54      0.54      2033\n",
            " samples avg       0.55      0.54      0.52      2033\n",
            "\n"
          ],
          "name": "stdout"
        },
        {
          "output_type": "stream",
          "text": [
            "/usr/local/lib/python3.6/dist-packages/sklearn/metrics/_classification.py:1272: UndefinedMetricWarning: Precision and F-score are ill-defined and being set to 0.0 in samples with no predicted labels. Use `zero_division` parameter to control this behavior.\n",
            "  _warn_prf(average, modifier, msg_start, len(result))\n"
          ],
          "name": "stderr"
        }
      ]
    },
    {
      "cell_type": "code",
      "metadata": {
        "id": "sMiVSYd5HdEj",
        "colab_type": "code",
        "outputId": "51551efa-b998-4c0e-e5b5-7f4962e8d2ec",
        "colab": {
          "base_uri": "https://localhost:8080/",
          "height": 68
        }
      },
      "source": [
        "br = BinaryRelevanceMLClassifier(classifier=GaussianNB())\n",
        "br.fit(X_train,Y_train)"
      ],
      "execution_count": 0,
      "outputs": [
        {
          "output_type": "execute_result",
          "data": {
            "text/plain": [
              "BinaryRelevanceMLClassifier(classifier=GaussianNB(priors=None,\n",
              "                                                  var_smoothing=1e-09),\n",
              "                            use_under_sampling=False)"
            ]
          },
          "metadata": {
            "tags": []
          },
          "execution_count": 44
        }
      ]
    },
    {
      "cell_type": "code",
      "metadata": {
        "id": "SviUhgcjzGY0",
        "colab_type": "code",
        "outputId": "4dc50a43-db74-47b8-dab0-b9c59e36eb64",
        "colab": {
          "base_uri": "https://localhost:8080/",
          "height": 425
        }
      },
      "source": [
        "y_pred = br.predict(X_test)\n",
        "result_df1.loc[1] = ['GaussianNB',multilabel_mean_accuracy(Y_test,y_pred),multilabel_mean_f1score(Y_test,y_pred)]\n",
        "print('Accuracy : {0:.2f} F1 Score : {1:.2f}'.format(result_df1['Accuracy'][1],result_df1['F1-Score'][1]))\n",
        "print('Classification Report \\n',metrics.classification_report(Y_test,y_pred))"
      ],
      "execution_count": 0,
      "outputs": [
        {
          "output_type": "stream",
          "text": [
            "Accuracy : 0.69 F1 Score : 0.44\n",
            "Classification Report \n",
            "               precision    recall  f1-score   support\n",
            "\n",
            "           0       0.62      0.67      0.65       163\n",
            "           1       0.55      0.68      0.61       222\n",
            "           2       0.57      0.76      0.65       183\n",
            "           3       0.50      0.57      0.53       153\n",
            "           4       0.56      0.52      0.54       155\n",
            "           5       0.40      0.54      0.46       128\n",
            "           6       0.29      0.58      0.39        83\n",
            "           7       0.28      0.51      0.36        97\n",
            "           8       0.09      0.26      0.13        39\n",
            "           9       0.15      0.38      0.22        50\n",
            "          10       0.10      0.24      0.14        50\n",
            "          11       0.78      0.65      0.71       353\n",
            "          12       0.78      0.64      0.70       350\n",
            "          13       0.00      0.00      0.00         7\n",
            "\n",
            "   micro avg       0.49      0.60      0.54      2033\n",
            "   macro avg       0.41      0.50      0.44      2033\n",
            "weighted avg       0.57      0.60      0.58      2033\n",
            " samples avg       0.51      0.62      0.53      2033\n",
            "\n"
          ],
          "name": "stdout"
        }
      ]
    },
    {
      "cell_type": "code",
      "metadata": {
        "id": "IPFOXVGkzRBU",
        "colab_type": "code",
        "outputId": "0b614728-42f4-47d7-8e22-116fc34e6f0e",
        "colab": {
          "base_uri": "https://localhost:8080/",
          "height": 153
        }
      },
      "source": [
        "br = BinaryRelevanceMLClassifier(classifier=KNeighborsClassifier(n_neighbors=6))\n",
        "br.fit(X_train,Y_train)"
      ],
      "execution_count": 0,
      "outputs": [
        {
          "output_type": "execute_result",
          "data": {
            "text/plain": [
              "BinaryRelevanceMLClassifier(classifier=KNeighborsClassifier(algorithm='auto',\n",
              "                                                            leaf_size=30,\n",
              "                                                            metric='minkowski',\n",
              "                                                            metric_params=None,\n",
              "                                                            n_jobs=None,\n",
              "                                                            n_neighbors=6, p=2,\n",
              "                                                            weights='uniform'),\n",
              "                            use_under_sampling=False)"
            ]
          },
          "metadata": {
            "tags": []
          },
          "execution_count": 46
        }
      ]
    },
    {
      "cell_type": "code",
      "metadata": {
        "id": "vkQNCqNTzjuv",
        "colab_type": "code",
        "outputId": "7618eec2-1375-4283-fd8b-c14a4f8aa6d0",
        "colab": {
          "base_uri": "https://localhost:8080/",
          "height": 513
        }
      },
      "source": [
        "y_pred = br.predict(X_test)\n",
        "result_df1.loc[2] = ['KNN',multilabel_mean_accuracy(Y_test,y_pred),multilabel_mean_f1score(Y_test,y_pred)]\n",
        "print('Accuracy : {0:.2f} F1 Score : {1:.2f}'.format(result_df1['Accuracy'][2],result_df1['F1-Score'][2]))\n",
        "print('Classification Report \\n',metrics.classification_report(Y_test,y_pred))"
      ],
      "execution_count": 0,
      "outputs": [
        {
          "output_type": "stream",
          "text": [
            "Accuracy : 0.79 F1 Score : 0.39\n",
            "Classification Report \n",
            "               precision    recall  f1-score   support\n",
            "\n",
            "           0       0.76      0.37      0.50       163\n",
            "           1       0.63      0.44      0.51       222\n",
            "           2       0.59      0.49      0.54       183\n",
            "           3       0.64      0.49      0.55       153\n",
            "           4       0.79      0.46      0.58       155\n",
            "           5       0.80      0.27      0.41       128\n",
            "           6       0.60      0.14      0.23        83\n",
            "           7       0.46      0.12      0.20        97\n",
            "           8       1.00      0.03      0.05        39\n",
            "           9       0.57      0.08      0.14        50\n",
            "          10       0.38      0.06      0.10        50\n",
            "          11       0.75      0.86      0.80       353\n",
            "          12       0.75      0.85      0.80       350\n",
            "          13       0.00      0.00      0.00         7\n",
            "\n",
            "   micro avg       0.71      0.52      0.60      2033\n",
            "   macro avg       0.62      0.33      0.39      2033\n",
            "weighted avg       0.69      0.52      0.56      2033\n",
            " samples avg       0.68      0.53      0.56      2033\n",
            "\n"
          ],
          "name": "stdout"
        },
        {
          "output_type": "stream",
          "text": [
            "/usr/local/lib/python3.6/dist-packages/sklearn/metrics/_classification.py:1272: UndefinedMetricWarning: Precision and F-score are ill-defined and being set to 0.0 in labels with no predicted samples. Use `zero_division` parameter to control this behavior.\n",
            "  _warn_prf(average, modifier, msg_start, len(result))\n",
            "/usr/local/lib/python3.6/dist-packages/sklearn/metrics/_classification.py:1272: UndefinedMetricWarning: Precision and F-score are ill-defined and being set to 0.0 in samples with no predicted labels. Use `zero_division` parameter to control this behavior.\n",
            "  _warn_prf(average, modifier, msg_start, len(result))\n"
          ],
          "name": "stderr"
        }
      ]
    },
    {
      "cell_type": "code",
      "metadata": {
        "id": "uu-tTLrh5gyo",
        "colab_type": "code",
        "outputId": "969b2fda-090f-4a2a-f1ff-73dbc3508d54",
        "colab": {
          "base_uri": "https://localhost:8080/",
          "height": 651
        }
      },
      "source": [
        "result_df1 = result_df1.set_index(['Base Classifier'])\n",
        "ax = result_df1.plot.bar(rot=0,title=\"DTree vs GaussianNB vs KNN \\n  BinaryRelevanceClassifier \\n under_sampling = FALSE\",figsize=(10,10))\n",
        "ax.legend(loc=2)\n",
        "for p in ax.patches:\n",
        "    ax.annotate(\"{0:.2f}\".format(p.get_height()), (p.get_x() * 1.005, p.get_height() * 1.01))"
      ],
      "execution_count": 0,
      "outputs": [
        {
          "output_type": "display_data",
          "data": {
            "image/png": "[encoded data removed]",
            "text/plain": [
              "<Figure size 720x720 with 1 Axes>"
            ]
          },
          "metadata": {
            "tags": []
          }
        }
      ]
    },
    {
      "cell_type": "markdown",
      "metadata": {
        "id": "X2ZZfDbPzrem",
        "colab_type": "text"
      },
      "source": [
        "(B) Trying BinaryRelevanceMLClassifier with 1) DTrees, 2) GaussianNB and 3) KNN <br> <b>(Keeping under_sampling as True)</b>\n"
      ]
    },
    {
      "cell_type": "code",
      "metadata": {
        "id": "6XdTc0-jddTA",
        "colab_type": "code",
        "colab": {}
      },
      "source": [
        "result_df2 = pd.DataFrame(columns=['Base Classifier', 'Accuracy', 'F1-Score'])"
      ],
      "execution_count": 0,
      "outputs": []
    },
    {
      "cell_type": "code",
      "metadata": {
        "id": "V2oIMWiebs7B",
        "colab_type": "code",
        "outputId": "5422602d-aeca-4189-df5c-73bb352c876f",
        "colab": {
          "base_uri": "https://localhost:8080/",
          "height": 272
        }
      },
      "source": [
        "# Descision Tree\n",
        "br = BinaryRelevanceMLClassifier(classifier=DecisionTreeClassifier(),use_under_sampling=True)\n",
        "br.fit(X_train,Y_train)"
      ],
      "execution_count": 0,
      "outputs": [
        {
          "output_type": "execute_result",
          "data": {
            "text/plain": [
              "BinaryRelevanceMLClassifier(classifier=DecisionTreeClassifier(ccp_alpha=0.0,\n",
              "                                                              class_weight=None,\n",
              "                                                              criterion='gini',\n",
              "                                                              max_depth=None,\n",
              "                                                              max_features=None,\n",
              "                                                              max_leaf_nodes=None,\n",
              "                                                              min_impurity_decrease=0.0,\n",
              "                                                              min_impurity_split=None,\n",
              "                                                              min_samples_leaf=1,\n",
              "                                                              min_samples_split=2,\n",
              "                                                              min_weight_fraction_leaf=0.0,\n",
              "                                                              presort='deprecated',\n",
              "                                                              random_state=None,\n",
              "                                                              splitter='best'),\n",
              "                            use_under_sampling=True)"
            ]
          },
          "metadata": {
            "tags": []
          },
          "execution_count": 55
        }
      ]
    },
    {
      "cell_type": "code",
      "metadata": {
        "id": "tMqC-Z0hloH7",
        "colab_type": "code",
        "outputId": "cbdbd0d6-d356-41a3-b4cf-830ae1231a20",
        "colab": {
          "base_uri": "https://localhost:8080/",
          "height": 425
        }
      },
      "source": [
        "y_pred = br.predict(X_test)\n",
        "result_df2.loc[0] = ['DTree',multilabel_mean_accuracy(Y_test,y_pred),multilabel_mean_f1score(Y_test,y_pred)]\n",
        "print('Accuracy : {0:.2f} F1 Score : {1:.2f}'.format(result_df2['Accuracy'][0],result_df2['F1-Score'][0]))\n",
        "print('Classification Report \\n',metrics.classification_report(Y_test,y_pred))"
      ],
      "execution_count": 0,
      "outputs": [
        {
          "output_type": "stream",
          "text": [
            "Accuracy : 0.56 F1 Score : 0.40\n",
            "Classification Report \n",
            "               precision    recall  f1-score   support\n",
            "\n",
            "           0       0.44      0.66      0.53       163\n",
            "           1       0.49      0.60      0.54       222\n",
            "           2       0.50      0.64      0.56       183\n",
            "           3       0.44      0.69      0.54       153\n",
            "           4       0.44      0.65      0.53       155\n",
            "           5       0.33      0.64      0.44       128\n",
            "           6       0.22      0.61      0.32        83\n",
            "           7       0.24      0.62      0.35        97\n",
            "           8       0.09      0.59      0.16        39\n",
            "           9       0.13      0.62      0.21        50\n",
            "          10       0.12      0.52      0.19        50\n",
            "          11       0.79      0.55      0.65       353\n",
            "          12       0.78      0.46      0.58       350\n",
            "          13       0.03      1.00      0.05         7\n",
            "\n",
            "   micro avg       0.36      0.59      0.44      2033\n",
            "   macro avg       0.36      0.63      0.40      2033\n",
            "weighted avg       0.52      0.59      0.52      2033\n",
            " samples avg       0.37      0.60      0.44      2033\n",
            "\n"
          ],
          "name": "stdout"
        }
      ]
    },
    {
      "cell_type": "code",
      "metadata": {
        "id": "SzP2aeezlq5N",
        "colab_type": "code",
        "outputId": "58f018e8-17ef-42ea-b2ad-48415969ddd0",
        "colab": {
          "base_uri": "https://localhost:8080/",
          "height": 68
        }
      },
      "source": [
        "# Gaussian Naive Bayes\n",
        "br = BinaryRelevanceMLClassifier(classifier=GaussianNB(),use_under_sampling=True)\n",
        "br.fit(X_train,Y_train)"
      ],
      "execution_count": 0,
      "outputs": [
        {
          "output_type": "execute_result",
          "data": {
            "text/plain": [
              "BinaryRelevanceMLClassifier(classifier=GaussianNB(priors=None,\n",
              "                                                  var_smoothing=1e-09),\n",
              "                            use_under_sampling=True)"
            ]
          },
          "metadata": {
            "tags": []
          },
          "execution_count": 57
        }
      ]
    },
    {
      "cell_type": "code",
      "metadata": {
        "id": "1Llb3iLq0dG1",
        "colab_type": "code",
        "outputId": "1a59c2a4-be07-488a-b70a-4cc0849ff726",
        "colab": {
          "base_uri": "https://localhost:8080/",
          "height": 425
        }
      },
      "source": [
        "y_pred = br.predict(X_test)\n",
        "result_df2.loc[1] = ['GaussianNB',multilabel_mean_accuracy(Y_test,y_pred),multilabel_mean_f1score(Y_test,y_pred)]\n",
        "print('Accuracy : {0:.2f} F1 Score : {1:.2f}'.format(result_df2['Accuracy'][1],result_df2['F1-Score'][1]))\n",
        "print('Classification Report \\n',metrics.classification_report(Y_test,y_pred))"
      ],
      "execution_count": 0,
      "outputs": [
        {
          "output_type": "stream",
          "text": [
            "Accuracy : 0.61 F1 Score : 0.44\n",
            "Classification Report \n",
            "               precision    recall  f1-score   support\n",
            "\n",
            "           0       0.59      0.69      0.64       163\n",
            "           1       0.54      0.71      0.61       222\n",
            "           2       0.57      0.77      0.66       183\n",
            "           3       0.48      0.58      0.52       153\n",
            "           4       0.54      0.57      0.55       155\n",
            "           5       0.37      0.66      0.47       128\n",
            "           6       0.28      0.75      0.41        83\n",
            "           7       0.28      0.67      0.39        97\n",
            "           8       0.10      0.64      0.17        39\n",
            "           9       0.13      0.52      0.21        50\n",
            "          10       0.12      0.56      0.20        50\n",
            "          11       0.79      0.51      0.62       353\n",
            "          12       0.79      0.51      0.62       350\n",
            "          13       0.02      0.71      0.05         7\n",
            "\n",
            "   micro avg       0.40      0.61      0.48      2033\n",
            "   macro avg       0.40      0.63      0.44      2033\n",
            "weighted avg       0.56      0.61      0.55      2033\n",
            " samples avg       0.42      0.63      0.48      2033\n",
            "\n"
          ],
          "name": "stdout"
        }
      ]
    },
    {
      "cell_type": "code",
      "metadata": {
        "id": "IwElNNGt0j10",
        "colab_type": "code",
        "outputId": "faa97939-51ba-451b-aa75-6a0d423541c5",
        "colab": {
          "base_uri": "https://localhost:8080/",
          "height": 153
        }
      },
      "source": [
        "# KNN\n",
        "br = BinaryRelevanceMLClassifier(classifier=KNeighborsClassifier(6),use_under_sampling=True)\n",
        "br.fit(X_train,Y_train)"
      ],
      "execution_count": 0,
      "outputs": [
        {
          "output_type": "execute_result",
          "data": {
            "text/plain": [
              "BinaryRelevanceMLClassifier(classifier=KNeighborsClassifier(algorithm='auto',\n",
              "                                                            leaf_size=30,\n",
              "                                                            metric='minkowski',\n",
              "                                                            metric_params=None,\n",
              "                                                            n_jobs=None,\n",
              "                                                            n_neighbors=6, p=2,\n",
              "                                                            weights='uniform'),\n",
              "                            use_under_sampling=True)"
            ]
          },
          "metadata": {
            "tags": []
          },
          "execution_count": 59
        }
      ]
    },
    {
      "cell_type": "code",
      "metadata": {
        "id": "UQxBpL7o0kWT",
        "colab_type": "code",
        "outputId": "223c66b8-7695-483b-a4ee-37e9bd7b245a",
        "colab": {
          "base_uri": "https://localhost:8080/",
          "height": 479
        }
      },
      "source": [
        "y_pred = br.predict(X_test)\n",
        "result_df2.loc[2] = ['KNN',multilabel_mean_accuracy(Y_test,y_pred),multilabel_mean_f1score(Y_test,y_pred)]\n",
        "print('Accuracy : {0:.2f} F1 Score : {1:.2f}'.format(result_df2['Accuracy'][2],result_df2['F1-Score'][2]))\n",
        "print('Classification Report \\n',metrics.classification_report(Y_test,y_pred))"
      ],
      "execution_count": 0,
      "outputs": [
        {
          "output_type": "stream",
          "text": [
            "Accuracy : 0.66 F1 Score : 0.44\n",
            "Classification Report \n",
            "               precision    recall  f1-score   support\n",
            "\n",
            "           0       0.58      0.62      0.60       163\n",
            "           1       0.56      0.55      0.55       222\n",
            "           2       0.58      0.62      0.60       183\n",
            "           3       0.52      0.59      0.55       153\n",
            "           4       0.57      0.63      0.60       155\n",
            "           5       0.42      0.54      0.47       128\n",
            "           6       0.29      0.55      0.38        83\n",
            "           7       0.30      0.54      0.39        97\n",
            "           8       0.13      0.59      0.21        39\n",
            "           9       0.17      0.44      0.24        50\n",
            "          10       0.16      0.52      0.24        50\n",
            "          11       0.83      0.48      0.61       353\n",
            "          12       0.81      0.51      0.63       350\n",
            "          13       0.03      0.57      0.05         7\n",
            "\n",
            "   micro avg       0.45      0.55      0.50      2033\n",
            "   macro avg       0.42      0.55      0.44      2033\n",
            "weighted avg       0.59      0.55      0.54      2033\n",
            " samples avg       0.47      0.56      0.49      2033\n",
            "\n"
          ],
          "name": "stdout"
        },
        {
          "output_type": "stream",
          "text": [
            "/usr/local/lib/python3.6/dist-packages/sklearn/metrics/_classification.py:1272: UndefinedMetricWarning: Precision and F-score are ill-defined and being set to 0.0 in samples with no predicted labels. Use `zero_division` parameter to control this behavior.\n",
            "  _warn_prf(average, modifier, msg_start, len(result))\n"
          ],
          "name": "stderr"
        }
      ]
    },
    {
      "cell_type": "code",
      "metadata": {
        "id": "rwkQtxv3eQT6",
        "colab_type": "code",
        "outputId": "2673c950-2fa5-4078-ea19-f65e71bc6be6",
        "colab": {
          "base_uri": "https://localhost:8080/",
          "height": 651
        }
      },
      "source": [
        "result_df2 = result_df2.set_index(['Base Classifier'])\n",
        "ax = result_df2.plot.bar(rot=0,title=\"DTree vs GaussianNB vs KNN \\n  BinaryRelevanceClassifier \\n under_sampling = TRUE\",figsize=(10,10))\n",
        "ax.legend(loc=2)\n",
        "for p in ax.patches:\n",
        "    ax.annotate(\"{0:.2f}\".format(p.get_height()), (p.get_x() * 1.005, p.get_height() * 1.01))"
      ],
      "execution_count": 0,
      "outputs": [
        {
          "output_type": "display_data",
          "data": {
            "image/png": "[encoded data removed]",
            "text/plain": [
              "<Figure size 720x720 with 1 Axes>"
            ]
          },
          "metadata": {
            "tags": []
          }
        }
      ]
    },
    {
      "cell_type": "markdown",
      "metadata": {
        "id": "pm8YY73m0yJo",
        "colab_type": "text"
      },
      "source": [
        "(C) Trying ChaningClassifier with 1) DTrees, 2) GaussianNB and 3) KNN "
      ]
    },
    {
      "cell_type": "code",
      "metadata": {
        "id": "sGWs-zYpg2Dc",
        "colab_type": "code",
        "colab": {}
      },
      "source": [
        "result_df3 = pd.DataFrame(columns=['Base Classifier', 'Accuracy', 'F1-Score'])"
      ],
      "execution_count": 0,
      "outputs": []
    },
    {
      "cell_type": "code",
      "metadata": {
        "id": "op3en4cx-1Qr",
        "colab_type": "code",
        "colab": {}
      },
      "source": [
        "# DecisionTreeClassifier\n",
        "cc = ChaningClassifier(classifier = DecisionTreeClassifier())\n",
        "cc = cc.fit(X_train,Y_train)"
      ],
      "execution_count": 0,
      "outputs": []
    },
    {
      "cell_type": "code",
      "metadata": {
        "id": "9sPvnK3t0-nS",
        "colab_type": "code",
        "outputId": "58d1b366-4b84-4fa3-e07b-0b22321cfbb9",
        "colab": {
          "base_uri": "https://localhost:8080/",
          "height": 479
        }
      },
      "source": [
        "y_pred = cc.predict(X_test)\n",
        "result_df3.loc[0] = ['DTree',multilabel_mean_accuracy(Y_test,y_pred),multilabel_mean_f1score(Y_test,y_pred)]\n",
        "print('Accuracy : {0:.2f} F1 Score : {1:.2f}'.format(result_df3['Accuracy'][0],result_df3['F1-Score'][0]))\n",
        "print('Classification Report \\n',metrics.classification_report(Y_test,y_pred))"
      ],
      "execution_count": 0,
      "outputs": [
        {
          "output_type": "stream",
          "text": [
            "Accuracy : 0.72 F1 Score : 0.37\n",
            "Classification Report \n",
            "               precision    recall  f1-score   support\n",
            "\n",
            "           0       0.51      0.51      0.51       163\n",
            "           1       0.51      0.55      0.53       222\n",
            "           2       0.47      0.56      0.51       183\n",
            "           3       0.48      0.55      0.51       153\n",
            "           4       0.50      0.46      0.48       155\n",
            "           5       0.40      0.39      0.40       128\n",
            "           6       0.28      0.24      0.26        83\n",
            "           7       0.26      0.24      0.25        97\n",
            "           8       0.13      0.13      0.13        39\n",
            "           9       0.06      0.06      0.06        50\n",
            "          10       0.07      0.08      0.08        50\n",
            "          11       0.74      0.78      0.76       353\n",
            "          12       0.73      0.77      0.75       350\n",
            "          13       0.00      0.00      0.00         7\n",
            "\n",
            "   micro avg       0.53      0.55      0.54      2033\n",
            "   macro avg       0.37      0.38      0.37      2033\n",
            "weighted avg       0.52      0.55      0.53      2033\n",
            " samples avg       0.53      0.56      0.51      2033\n",
            "\n"
          ],
          "name": "stdout"
        },
        {
          "output_type": "stream",
          "text": [
            "/usr/local/lib/python3.6/dist-packages/sklearn/metrics/_classification.py:1272: UndefinedMetricWarning: Precision and F-score are ill-defined and being set to 0.0 in samples with no predicted labels. Use `zero_division` parameter to control this behavior.\n",
            "  _warn_prf(average, modifier, msg_start, len(result))\n"
          ],
          "name": "stderr"
        }
      ]
    },
    {
      "cell_type": "code",
      "metadata": {
        "id": "B0J6IqllZ3ZK",
        "colab_type": "code",
        "colab": {}
      },
      "source": [
        "# GaussianNB\n",
        "cc = ChaningClassifier(classifier = GaussianNB())\n",
        "cc = cc.fit(X_train,Y_train)"
      ],
      "execution_count": 0,
      "outputs": []
    },
    {
      "cell_type": "code",
      "metadata": {
        "id": "LHloJkLf1UC3",
        "colab_type": "code",
        "outputId": "ae89f4c3-cfdf-4b2f-de7e-ee4b3ab12e88",
        "colab": {
          "base_uri": "https://localhost:8080/",
          "height": 425
        }
      },
      "source": [
        "y_pred = cc.predict(X_test)\n",
        "result_df3.loc[1] = ['GaussianNB',multilabel_mean_accuracy(Y_test,y_pred),multilabel_mean_f1score(Y_test,y_pred)]\n",
        "print('Accuracy : {0:.2f} F1 Score : {1:.2f}'.format(result_df3['Accuracy'][1],result_df3['F1-Score'][1]))\n",
        "print('Classification Report \\n',metrics.classification_report(Y_test,y_pred))"
      ],
      "execution_count": 0,
      "outputs": [
        {
          "output_type": "stream",
          "text": [
            "Accuracy : 0.68 F1 Score : 0.43\n",
            "Classification Report \n",
            "               precision    recall  f1-score   support\n",
            "\n",
            "           0       0.62      0.67      0.65       163\n",
            "           1       0.58      0.69      0.63       222\n",
            "           2       0.56      0.73      0.64       183\n",
            "           3       0.48      0.58      0.52       153\n",
            "           4       0.60      0.51      0.55       155\n",
            "           5       0.45      0.48      0.47       128\n",
            "           6       0.28      0.48      0.35        83\n",
            "           7       0.28      0.43      0.34        97\n",
            "           8       0.10      0.28      0.14        39\n",
            "           9       0.15      0.48      0.23        50\n",
            "          10       0.11      0.42      0.18        50\n",
            "          11       0.77      0.60      0.67       353\n",
            "          12       0.77      0.60      0.67       350\n",
            "          13       0.00      0.00      0.00         7\n",
            "\n",
            "   micro avg       0.47      0.58      0.52      2033\n",
            "   macro avg       0.41      0.50      0.43      2033\n",
            "weighted avg       0.57      0.58      0.56      2033\n",
            " samples avg       0.49      0.60      0.52      2033\n",
            "\n"
          ],
          "name": "stdout"
        }
      ]
    },
    {
      "cell_type": "code",
      "metadata": {
        "id": "6S1SWiJX1V4q",
        "colab_type": "code",
        "colab": {}
      },
      "source": [
        "# KNeighborsClassifier\n",
        "cc = ChaningClassifier(classifier = KNeighborsClassifier(6))\n",
        "cc = cc.fit(X_train,Y_train)"
      ],
      "execution_count": 0,
      "outputs": []
    },
    {
      "cell_type": "code",
      "metadata": {
        "id": "IHBaK8uj1WtL",
        "colab_type": "code",
        "outputId": "fce1fa0e-7dbe-45c1-a33c-fc0e342e995b",
        "colab": {
          "base_uri": "https://localhost:8080/",
          "height": 479
        }
      },
      "source": [
        "y_pred = cc.predict(X_test)\n",
        "result_df3.loc[2] = ['KNN',multilabel_mean_accuracy(Y_test,y_pred),multilabel_mean_f1score(Y_test,y_pred)]\n",
        "print('Accuracy : {0:.2f} F1 Score : {1:.2f}'.format(result_df3['Accuracy'][2],result_df3['F1-Score'][2]))\n",
        "print('Classification Report \\n',metrics.classification_report(Y_test,y_pred))"
      ],
      "execution_count": 0,
      "outputs": [
        {
          "output_type": "stream",
          "text": [
            "Accuracy : 0.76 F1 Score : 0.39\n",
            "Classification Report \n",
            "               precision    recall  f1-score   support\n",
            "\n",
            "           0       0.76      0.37      0.50       163\n",
            "           1       0.66      0.38      0.49       222\n",
            "           2       0.61      0.43      0.50       183\n",
            "           3       0.57      0.52      0.54       153\n",
            "           4       0.59      0.57      0.58       155\n",
            "           5       0.49      0.36      0.41       128\n",
            "           6       0.30      0.23      0.26        83\n",
            "           7       0.33      0.22      0.26        97\n",
            "           8       0.25      0.03      0.05        39\n",
            "           9       0.19      0.18      0.18        50\n",
            "          10       0.12      0.12      0.12        50\n",
            "          11       0.74      0.83      0.78       353\n",
            "          12       0.74      0.83      0.78       350\n",
            "          13       0.00      0.00      0.00         7\n",
            "\n",
            "   micro avg       0.62      0.53      0.57      2033\n",
            "   macro avg       0.45      0.36      0.39      2033\n",
            "weighted avg       0.60      0.53      0.55      2033\n",
            " samples avg       0.60      0.53      0.54      2033\n",
            "\n"
          ],
          "name": "stdout"
        },
        {
          "output_type": "stream",
          "text": [
            "/usr/local/lib/python3.6/dist-packages/sklearn/metrics/_classification.py:1272: UndefinedMetricWarning: Precision and F-score are ill-defined and being set to 0.0 in labels with no predicted samples. Use `zero_division` parameter to control this behavior.\n",
            "  _warn_prf(average, modifier, msg_start, len(result))\n"
          ],
          "name": "stderr"
        }
      ]
    },
    {
      "cell_type": "code",
      "metadata": {
        "id": "Hlp199Ck1gKi",
        "colab_type": "code",
        "outputId": "ecffc3c0-ea80-4e2d-bd56-9cf83a4f7ea3",
        "colab": {
          "base_uri": "https://localhost:8080/",
          "height": 637
        }
      },
      "source": [
        "result_df3 = result_df3.set_index(['Base Classifier'])\n",
        "ax = result_df3.plot.bar(rot=0,title=\"DTree vs GaussianNB vs KNN \\n  ChaningClassifier \",figsize=(10,10))\n",
        "ax.legend(loc=2)\n",
        "for p in ax.patches:\n",
        "    ax.annotate(\"{0:.2f}\".format(p.get_height()), (p.get_x() * 1.005, p.get_height() * 1.01))"
      ],
      "execution_count": 0,
      "outputs": [
        {
          "output_type": "display_data",
          "data": {
            "image/png": "[encoded data removed]",
            "text/plain": [
              "<Figure size 720x720 with 1 Axes>"
            ]
          },
          "metadata": {
            "tags": []
          }
        }
      ]
    },
    {
      "cell_type": "code",
      "metadata": {
        "id": "rXUju9pClHY1",
        "colab_type": "code",
        "outputId": "4941f342-58eb-408d-ef30-6bc19d981e6f",
        "colab": {
          "base_uri": "https://localhost:8080/",
          "height": 357
        }
      },
      "source": [
        "print(\"BinaryRelevance - under_sampling = FALSE \")\n",
        "print(result_df1)\n",
        "print(\"\\n BinaryRelevance - under_sampling = TRUE\")\n",
        "print(result_df2)\n",
        "print(\"\\n ChainingClassifier\")\n",
        "print(result_df3)"
      ],
      "execution_count": 0,
      "outputs": [
        {
          "output_type": "stream",
          "text": [
            "BinaryRelevance - under_sampling = FALSE \n",
            "                 Accuracy  F1-Score\n",
            "Base Classifier                    \n",
            "DTree            0.727273  0.377213\n",
            "GaussianNB       0.693477  0.435640\n",
            "KNN              0.791617  0.386297\n",
            "\n",
            " BinaryRelevance - under_sampling = TRUE\n",
            "                 Accuracy  F1-Score\n",
            "Base Classifier                    \n",
            "DTree            0.557851  0.403588\n",
            "GaussianNB       0.608619  0.437338\n",
            "KNN              0.664109  0.438019\n",
            "\n",
            " ChainingClassifier\n",
            "                 Accuracy  F1-Score\n",
            "Base Classifier                    \n",
            "DTree            0.717090  0.373215\n",
            "GaussianNB       0.677243  0.432056\n",
            "KNN              0.761806  0.390414\n"
          ],
          "name": "stdout"
        }
      ]
    },
    {
      "cell_type": "markdown",
      "metadata": {
        "id": "M5PKGBdL1ji8",
        "colab_type": "text"
      },
      "source": [
        "Checking the <b>computational performance</b> of our algorithms."
      ]
    },
    {
      "cell_type": "code",
      "metadata": {
        "id": "8Ti7Up5qx140",
        "colab_type": "code",
        "outputId": "13d1cd87-4f56-4bdc-e425-c473874320da",
        "colab": {
          "base_uri": "https://localhost:8080/",
          "height": 204
        }
      },
      "source": [
        "\n",
        "# time spent by BinaryRelevance with KNN (Under Sampling False)\n",
        "start_time = time.time()\n",
        "br = BinaryRelevanceMLClassifier(classifier=KNeighborsClassifier(n_neighbors=6))\n",
        "br = br.fit(X_train,Y_train)\n",
        "br_knn_time = time.time() - start_time\n",
        "print('BinaryRelevance with KNN (Under Sampling False)\\n','Train Time ',\"--- %s seconds ---\" % (br_knn_time))\n",
        "y_pred = br.predict(X_test)\n",
        "br_knn_time = time.time() - start_time\n",
        "print('Total Time',\"--- %s seconds ---\" % (br_knn_time),'\\n')\n",
        "\n",
        "# time spent by BinaryRelevance with KNN (Under Sampling True)\n",
        "start_time = time.time()\n",
        "br = BinaryRelevanceMLClassifier(classifier=KNeighborsClassifier(n_neighbors=6),use_under_sampling=True)\n",
        "br = br.fit(X_train,Y_train)\n",
        "br_us_knn_time = time.time() - start_time\n",
        "print('BinaryRelevance with KNN (Under Sampling True)\\n','Train Time ',\"--- %s seconds ---\" % (br_us_knn_time))\n",
        "y_pred = br.predict(X_test)\n",
        "br_us_knn_time = time.time() - start_time\n",
        "print('Total Time',\"--- %s seconds ---\" % (br_us_knn_time),'\\n')\n",
        "\n",
        "# time spent by ChaningClassifier with KNN \n",
        "start_time = time.time()\n",
        "cc = ChaningClassifier(classifier = KNeighborsClassifier(n_neighbors=6))\n",
        "cc = cc.fit(X_train,Y_train)\n",
        "cc_knn_time = time.time() - start_time\n",
        "print('ChaningClassifier with KNN\\n','Training Time ',\"--- %s seconds ---\" % (cc_knn_time))\n",
        "y_pred = cc.predict(X_test)\n",
        "cc_knn_time = time.time() - start_time\n",
        "print('Total Time '\"--- %s seconds ---\" % (cc_knn_time))\n"
      ],
      "execution_count": 0,
      "outputs": [
        {
          "output_type": "stream",
          "text": [
            "BinaryRelevance with KNN (Under Sampling False)\n",
            " Train Time  --- 0.26436543464660645 seconds ---\n",
            "Total Time --- 3.8976597785949707 seconds --- \n",
            "\n",
            "BinaryRelevance with KNN (Under Sampling True)\n",
            " Train Time  --- 0.12935233116149902 seconds ---\n",
            "Total Time --- 1.702263355255127 seconds --- \n",
            "\n",
            "ChaningClassifier with KNN\n",
            " Training Time  --- 0.29246020317077637 seconds ---\n",
            "Total Time --- 3.493696689605713 seconds ---\n"
          ],
          "name": "stdout"
        }
      ]
    },
    {
      "cell_type": "markdown",
      "metadata": {
        "id": "if4GlTbGkpYw",
        "colab_type": "text"
      },
      "source": [
        "## Conclusion"
      ]
    },
    {
      "cell_type": "markdown",
      "metadata": {
        "id": "vlbNmcx5kueH",
        "colab_type": "text"
      },
      "source": [
        "We were able to get the highest accuracy of 79% using BinaryRelevanceClassifier without under_sampling using base classifier as KNN. But this does not seem to be the best measure because as we use Under Sampling with KNN our F1 score increases from 0.38 to 0.44, which means our precision and recall scores become better by using Under Sampling. \n",
        "The time complexity is best for BinaryRelevanceClassifier with under sampling(1.7 sec) which seems obvious as less number of samples take less time for model to be trained on.\n",
        "One stand out observation is that the total time taken by ChaningClassifier(3.4 sec) is less than even that of a simple BinaryRelevanceClassifier(3.8 sec). Here although the time taken to train the ChaningClassifier is more because we have added computation of appending label to descriptive features, but the time taken to predict is reduced.\n"
      ]
    },
    {
      "cell_type": "code",
      "metadata": {
        "id": "KSsv7u0t-Veq",
        "colab_type": "code",
        "colab": {}
      },
      "source": [
        ""
      ],
      "execution_count": 0,
      "outputs": []
    }
  ]
}